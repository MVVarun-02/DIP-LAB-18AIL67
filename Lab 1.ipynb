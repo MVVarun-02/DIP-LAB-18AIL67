{
 "cells": [
  {
   "cell_type": "code",
   "execution_count": 1,
   "id": "0ef01641",
   "metadata": {},
   "outputs": [
    {
     "name": "stdout",
     "output_type": "stream",
     "text": [
      "Collecting opencv-python\n",
      "  Downloading opencv_python-4.7.0.72-cp37-abi3-win_amd64.whl (38.2 MB)\n",
      "Requirement already satisfied: numpy>=1.17.3 in c:\\users\\varun\\anaconda3\\lib\\site-packages (from opencv-python) (1.21.5)\n",
      "Installing collected packages: opencv-python\n",
      "Successfully installed opencv-python-4.7.0.72\n"
     ]
    }
   ],
   "source": [
    "# !pip3 install opencv-python"
   ]
  },
  {
   "cell_type": "code",
   "execution_count": 1,
   "id": "d42a2c3b",
   "metadata": {},
   "outputs": [
    {
     "data": {
      "text/plain": [
       "True"
      ]
     },
     "execution_count": 1,
     "metadata": {},
     "output_type": "execute_result"
    }
   ],
   "source": [
    "import cv2\n",
    "\n",
    "image = cv2.imread(\"11.jpg\")\n",
    "height, width = image.shape[:2]\n",
    "mid_height = height//2\n",
    "mid_width = width//2\n",
    "up = image[:mid_height, :mid_width]\n",
    "down = image[mid_height:, :mid_width]\n",
    "right = image[:mid_height, mid_width:]\n",
    "left = image[mid_height:, mid_width:]\n",
    "\n",
    "cv2.imwrite(\"up.jpg\",up)\n",
    "cv2.imwrite(\"down.jpg\",down)\n",
    "cv2.imwrite(\"right.jpg\",right)\n",
    "cv2.imwrite(\"left.jpg\",left)"
   ]
  }
