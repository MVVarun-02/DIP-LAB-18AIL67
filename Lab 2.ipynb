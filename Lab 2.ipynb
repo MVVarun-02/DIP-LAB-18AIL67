{
 "cells": [
  {
   "cell_type": "code",
   "execution_count": null,
   "id": "107401e6",
   "metadata": {},
   "outputs": [],
   "source": [
    "import cv2\n",
    "import numpy as np\n",
    "image = cv2.imread(\"11.jpg\")\n",
    "angle = 45\n",
    "scale = 1.5\n",
    "\n",
    "height,width = image.shape[:2]\n",
    "center = (width//2,height//2)\n",
    "\n",
    "rotation_matrix = cv2.getRotationMatrix2D(center,angle,scale)\n",
    "\n",
    "rotated_image = cv2.warpAffine(image,rotation_matrix,(width,height))\n",
    "\n",
    "tx= 5\n",
    "ty = 10\n",
    "\n",
    "translation_matrix = np.float32([[1,0,tx],[0,1,ty]])\n",
    "\n",
    "translated_image = cv2.warpAffine(rotated_image,translation_matrix,(width,height))\n",
    "\n",
    "cv2.imshow(\"Original\",image)\n",
    "cv2.imshow(\"Rotated Image\",rotated_image)\n",
    "cv2.imshow(\"Translated Image\",translated_image)\n",
    "cv2.imshow(\"Rotated,SCaled and Translated\",translated_image)\n",
    "cv2.waitKey(0)\n",
    "cv2.destroyAllWindows()"
   ]
  },
  {
   "cell_type": "code",
   "execution_count": null,
   "id": "77a80b11",
   "metadata": {},
   "outputs": [],
   "source": []
  }
 ],
 "metadata": {
  "kernelspec": {
   "display_name": "Python 3 (ipykernel)",
   "language": "python",
   "name": "python3"
  },
  "language_info": {
   "codemirror_mode": {
    "name": "ipython",
    "version": 3
   },
   "file_extension": ".py",
   "mimetype": "text/x-python",
   "name": "python",
   "nbconvert_exporter": "python",
   "pygments_lexer": "ipython3",
   "version": "3.9.12"
  }
 },
 "nbformat": 4,
 "nbformat_minor": 5
}
