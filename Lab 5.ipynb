{
 "cells": [
  {
   "cell_type": "code",
   "execution_count": null,
   "id": "f48018db",
   "metadata": {},
   "outputs": [],
   "source": [
    "import cv2\n",
    "import numpy as np\n",
    "# from matplotlib import pyplot as plt\n",
    "\n",
    "img = cv2.imread(\"714.jpeg\",0)\n",
    "\n",
    "enhanced = cv2.equalizeHist(img)\n",
    "\n",
    "ret, threshold = cv2.threshold(enhanced, 0, 255, cv2.THRESH_BINARY+cv2.THRESH_OTSU)\n",
    "\n",
    "# plt.subplot(1,1,1),plt.imshow(img,'gray')\n",
    "\n",
    "cv2.imshow(\"Original\",img)\n",
    "cv2.imshow(\"Enhanced\",enhanced)\n",
    "cv2.imshow(\"Threshold\",threshold)\n",
    "cv2.waitKey(0)\n",
    "cv2.destroyAllWindows()"
   ]
  },
  {
   "cell_type": "code",
   "execution_count": null,
   "id": "86b39947",
   "metadata": {},
   "outputs": [],
   "source": []
  }
 ],
 "metadata": {
  "kernelspec": {
   "display_name": "Python 3 (ipykernel)",
   "language": "python",
   "name": "python3"
  },
  "language_info": {
   "codemirror_mode": {
    "name": "ipython",
    "version": 3
   },
   "file_extension": ".py",
   "mimetype": "text/x-python",
   "name": "python",
   "nbconvert_exporter": "python",
   "pygments_lexer": "ipython3",
   "version": "3.9.12"
  }
 },
 "nbformat": 4,
 "nbformat_minor": 5
}
